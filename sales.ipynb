{
 "cells": [
  {
   "cell_type": "code",
   "execution_count": 11,
   "id": "9db578df",
   "metadata": {},
   "outputs": [
    {
     "name": "stdout",
     "output_type": "stream",
     "text": [
      "   Order ID  Customer Name   Order Date   Product  Quantity  Unit Price  Total Revenue\n",
      "0      1001       John Doe   01/01/2024  Widget A      10.0        25.0          250.0\n",
      "1      1002     Jane Smith   01/02/2024  Widget B       5.0        40.0          200.0\n",
      "2      1003            NaN  2024/01/03'  Widget A       NaN        25.0            NaN\n",
      "3      1004  Alice Johnson   04/01/2024  Widget C       3.0         NaN          210.0\n",
      "4      1005      Bob Brown  2024/01/05'  Widget B      10.0        40.0          400.0\n",
      "5      1006       John Doe   06/01/2024  Widget A       4.0        25.0          100.0\n",
      "6      1001       John Doe   01/01/2024  Widget A      10.0        25.0          250.0\n",
      "7      1007     Jane Smith   07/01/2024  Widget C      -6.0        70.0         -420.0\n"
     ]
    }
   ],
   "source": [
    "import pandas as pd\n",
    "\n",
    "uncleaned_df = pd.read_csv(\"Sales.csv\")\n",
    "print(uncleaned_df.to_string())"
   ]
  },
  {
   "cell_type": "code",
   "execution_count": 6,
   "id": "05f547a0",
   "metadata": {},
   "outputs": [],
   "source": [
    "import pandas as pd\n",
    "import numpy as np\n",
    "\n",
    "# Load the dataset\n",
    "df = pd.read_csv('Sales.csv')\n",
    "\n",
    "\n",
    "# Fill missing customer names with 'Unknown'\n",
    "df['Customer Name'] = df['Customer Name'].fillna('Unknown')\n",
    "\n",
    "# Convert Quantity to numeric and fill missing values with 0\n",
    "df['Quantity'] = pd.to_numeric(df['Quantity'], errors='coerce').fillna(0)\n",
    "\n",
    "# Convert Unit Price to numeric and fill missing values with column median\n",
    "df['Unit Price'] = pd.to_numeric(df['Unit Price'], errors='coerce')\n",
    "unit_price_median = df['Unit Price'].median()\n",
    "df['Unit Price'] = df['Unit Price'].fillna(unit_price_median)\n",
    "\n",
    "# Recalculate Total Revenue where it's missing or wrong\n",
    "df['Total Revenue'] = df['Quantity'] * df['Unit Price']\n",
    "\n",
    "#Fix Inconsistent Date Formats\n",
    "\n",
    "df['Order Date'] = df['Order Date'].str.replace(\"'\", \"\")  # Remove stray quotes\n",
    "df['Order Date'] = pd.to_datetime(df['Order Date'], errors='coerce')\n",
    "\n",
    "# Fill any remaining bad dates with a default date (or could drop them)\n",
    "df['Order Date'] = df['Order Date'].fillna(pd.to_datetime('2024-01-01'))\n",
    "\n",
    "#Remove Duplicate Rows\n",
    "\n",
    "df = df.drop_duplicates()\n",
    "\n",
    "#Fix Wrong Data\n",
    "# Ensure Quantity is non-negative\n",
    "df['Quantity'] = df['Quantity'].abs()\n",
    "\n",
    "# Recalculate Total Revenue again after Quantity correction\n",
    "df['Total Revenue'] = df['Quantity'] * df['Unit Price']\n"
   ]
  },
  {
   "cell_type": "code",
   "execution_count": 3,
   "id": "425eff2d",
   "metadata": {},
   "outputs": [
    {
     "name": "stdout",
     "output_type": "stream",
     "text": [
      "\n",
      "Cleaned Dataset Info:\n",
      "<class 'pandas.core.frame.DataFrame'>\n",
      "Index: 7 entries, 0 to 7\n",
      "Data columns (total 7 columns):\n",
      " #   Column         Non-Null Count  Dtype         \n",
      "---  ------         --------------  -----         \n",
      " 0   Order ID       7 non-null      int64         \n",
      " 1   Customer Name  7 non-null      object        \n",
      " 2   Order Date     7 non-null      datetime64[ns]\n",
      " 3   Product        7 non-null      object        \n",
      " 4   Quantity       7 non-null      float64       \n",
      " 5   Unit Price     7 non-null      float64       \n",
      " 6   Total Revenue  7 non-null      float64       \n",
      "dtypes: datetime64[ns](1), float64(3), int64(1), object(2)\n",
      "memory usage: 448.0+ bytes\n",
      "None\n"
     ]
    }
   ],
   "source": [
    "#Final Verification\n",
    "print(\"\\nCleaned Dataset Info:\")\n",
    "print(df.info())"
   ]
  },
  {
   "cell_type": "code",
   "execution_count": 5,
   "id": "fa1c12d6",
   "metadata": {},
   "outputs": [
    {
     "name": "stdout",
     "output_type": "stream",
     "text": [
      "\n",
      "Missing Values After Cleaning:\n",
      "Order ID         0\n",
      "Customer Name    0\n",
      "Order Date       0\n",
      "Product          0\n",
      "Quantity         0\n",
      "Unit Price       0\n",
      "Total Revenue    0\n",
      "dtype: int64\n"
     ]
    }
   ],
   "source": [
    "print(\"\\nMissing Values After Cleaning:\")\n",
    "print(df.isnull().sum())"
   ]
  },
  {
   "cell_type": "code",
   "execution_count": 7,
   "id": "91858292",
   "metadata": {},
   "outputs": [
    {
     "name": "stdout",
     "output_type": "stream",
     "text": [
      "\n",
      "Duplicate Rows After Cleaning: 0\n"
     ]
    }
   ],
   "source": [
    "print(\"\\nDuplicate Rows After Cleaning:\", df.duplicated().sum())"
   ]
  },
  {
   "cell_type": "code",
   "execution_count": null,
   "id": "076312a5",
   "metadata": {},
   "outputs": [],
   "source": [
    "# Save cleaned dataset\n",
    "df.to_csv('cleaned_sells.csv', index=False)\n",
    "print(\"\\nCleaned dataset saved as 'cleaned_sells.csv'\")"
   ]
  }
 ],
 "metadata": {
  "kernelspec": {
   "display_name": "Python 3",
   "language": "python",
   "name": "python3"
  },
  "language_info": {
   "codemirror_mode": {
    "name": "ipython",
    "version": 3
   },
   "file_extension": ".py",
   "mimetype": "text/x-python",
   "name": "python",
   "nbconvert_exporter": "python",
   "pygments_lexer": "ipython3",
   "version": "3.13.3"
  }
 },
 "nbformat": 4,
 "nbformat_minor": 5
}
