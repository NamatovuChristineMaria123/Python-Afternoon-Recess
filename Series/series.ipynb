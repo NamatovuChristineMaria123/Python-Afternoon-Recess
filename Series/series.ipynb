{
 "cells": [
  {
   "cell_type": "code",
   "execution_count": 1,
   "id": "b7d8ded3",
   "metadata": {},
   "outputs": [
    {
     "name": "stdout",
     "output_type": "stream",
     "text": [
      "0    a\n",
      "1    b\n",
      "2    c\n",
      "3    d\n",
      "4    e\n",
      "5    f\n",
      "dtype: object\n"
     ]
    }
   ],
   "source": [
    "# Convert numpy array into pandas series\n",
    "import pandas as pd\n",
    "import numpy as np\n",
    "\n",
    "data = np.array(['a', 'b', 'c', 'd', 'e', 'f'])\n",
    "\n",
    "series1 = pd.Series(data)\n",
    "print(series1)  # Added parentheses to actually print the series"
   ]
  },
  {
   "cell_type": "code",
   "execution_count": 2,
   "id": "294e6bde",
   "metadata": {},
   "outputs": [
    {
     "name": "stdout",
     "output_type": "stream",
     "text": [
      "0      Agnes\n",
      "1    Ambrose\n",
      "2       Rita\n",
      "3      Peter\n",
      "4     Samson\n",
      "dtype: object\n"
     ]
    }
   ],
   "source": [
    "# Creating a series from a list\n",
    "import pandas as pd\n",
    "\n",
    "data1 = ['Agnes', 'Ambrose', 'Rita', 'Peter', 'Samson']\n",
    "\n",
    "Ser = pd.Series(data1)  # Corrected assignment operator from '-' to '='\n",
    "print(Ser)"
   ]
  },
  {
   "cell_type": "code",
   "execution_count": 3,
   "id": "3182e8c2",
   "metadata": {},
   "outputs": [
    {
     "name": "stdout",
     "output_type": "stream",
     "text": [
      "Age            20\n",
      "Name        Stone\n",
      "Country    Uganda\n",
      "dtype: object\n"
     ]
    }
   ],
   "source": [
    "# Create a series from a dictionary\n",
    "import pandas as pd\n",
    "\n",
    "data_Dict = {'Age': 20, 'Name': 'Stone', 'Country': 'Uganda'}\n",
    "\n",
    "ser = pd.Series(data_Dict)\n",
    "print(ser)"
   ]
  },
  {
   "cell_type": "code",
   "execution_count": 4,
   "id": "b81ca8b7",
   "metadata": {},
   "outputs": [
    {
     "name": "stdout",
     "output_type": "stream",
     "text": [
      "0     5\n",
      "1     6\n",
      "2     7\n",
      "3     8\n",
      "4     9\n",
      "5    10\n",
      "6    11\n",
      "7    12\n",
      "8    13\n",
      "9    14\n",
      "dtype: int64\n"
     ]
    }
   ],
   "source": [
    "# Create a series using range() function\n",
    "import pandas as pd\n",
    "\n",
    "ser = pd.Series(range(5, 15))  # Creates a Series with values from 5 to 14\n",
    "print(ser)"
   ]
  },
  {
   "cell_type": "code",
   "execution_count": 5,
   "id": "219aecd2",
   "metadata": {},
   "outputs": [
    {
     "name": "stdout",
     "output_type": "stream",
     "text": [
      "0     1.00\n",
      "1     3.25\n",
      "2     5.50\n",
      "3     7.75\n",
      "4    10.00\n",
      "dtype: float64\n"
     ]
    }
   ],
   "source": [
    "# Creating a Series with numpy.linspace()\n",
    "import pandas as pd\n",
    "import numpy as np\n",
    "\n",
    "Ser1 = pd.Series(np.linspace(1, 10, 5))  # Creates 5 evenly spaced numbers between 1 and 10\n",
    "print(Ser1)"
   ]
  },
  {
   "cell_type": "code",
   "execution_count": 6,
   "id": "2be92268",
   "metadata": {},
   "outputs": [
    {
     "name": "stdout",
     "output_type": "stream",
     "text": [
      "0    1.0\n",
      "1    2.8\n",
      "2    4.6\n",
      "3    6.4\n",
      "4    8.2\n",
      "dtype: float64\n"
     ]
    }
   ],
   "source": [
    "import numpy as np\n",
    "import pandas as pd\n",
    "\n",
    "Ser1 = pd.Series(np.linspace(1, 10, 5, endpoint=False))\n",
    "print(Ser1)"
   ]
  },
  {
   "cell_type": "code",
   "execution_count": 12,
   "id": "90c1673a",
   "metadata": {},
   "outputs": [
    {
     "name": "stdout",
     "output_type": "stream",
     "text": [
      "Equal: 0    False\n",
      "1    False\n",
      "2    False\n",
      "3    False\n",
      "4     True\n",
      "dtype: bool\n",
      "Greater than: 0    False\n",
      "1     True\n",
      "2     True\n",
      "3    False\n",
      "4    False\n",
      "dtype: bool\n",
      "Less than: 0     True\n",
      "1    False\n",
      "2    False\n",
      "3     True\n",
      "4    False\n",
      "dtype: bool\n"
     ]
    }
   ],
   "source": [
    "import pandas as pd\n",
    "\n",
    "# Sample Series\n",
    "series1 = pd.Series([4, 65, 436, 3, 9])\n",
    "series2 = pd.Series([7, 0, 3, 897, 9])\n",
    "\n",
    "# Compare elements\n",
    "print(\"Equal:\", series1 == series2)\n",
    "print(\"Greater than:\", series1 > series2)\n",
    "print(\"Less than:\", series1 < series2)"
   ]
  },
  {
   "cell_type": "code",
   "execution_count": 11,
   "id": "c7980bd6",
   "metadata": {},
   "outputs": [
    {
     "name": "stdout",
     "output_type": "stream",
     "text": [
      "Addition: 0     3\n",
      "1     7\n",
      "2    11\n",
      "3    15\n",
      "4    23\n",
      "dtype: int64\n",
      "Subtraction: 0    1\n",
      "1    1\n",
      "2    1\n",
      "3    1\n",
      "4    5\n",
      "dtype: int64\n",
      "Multiplication: 0      2\n",
      "1     12\n",
      "2     30\n",
      "3     56\n",
      "4    126\n",
      "dtype: int64\n",
      "Division: 0    2.000000\n",
      "1    1.333333\n",
      "2    1.200000\n",
      "3    1.142857\n",
      "4    1.555556\n",
      "dtype: float64\n"
     ]
    }
   ],
   "source": [
    "import pandas as pd\n",
    "\n",
    "# Sample Series\n",
    "series1 = pd.Series([2, 4, 6, 8, 14])\n",
    "series2 = pd.Series([1, 3, 5, 7, 9])\n",
    "\n",
    "# Arithmetic operations\n",
    "print(\"Addition:\", series1 + series2)\n",
    "print(\"Subtraction:\", series1 - series2)\n",
    "print(\"Multiplication:\", series1 * series2)\n",
    "print(\"Division:\", series1 / series2)"
   ]
  },
  {
   "cell_type": "code",
   "execution_count": 7,
   "id": "e0f21636",
   "metadata": {},
   "outputs": [
    {
     "name": "stdout",
     "output_type": "stream",
     "text": [
      "Josh       24\n",
      "Sam        36\n",
      "Peace      19\n",
      "Charles    65\n",
      "Tom        44\n",
      "dtype: int64\n"
     ]
    }
   ],
   "source": [
    "import pandas as pd\n",
    "\n",
    "# Sample dictionary\n",
    "dictionary1 = {'Josh': 24, 'Sam': 36, 'Peace': 19, 'Charles': 65, 'Tom': 44}\n",
    "\n",
    "# Convert to Series\n",
    "series = pd.Series(dictionary1)\n",
    "print(series)"
   ]
  },
  {
   "cell_type": "code",
   "execution_count": 10,
   "id": "cd1a43ee",
   "metadata": {},
   "outputs": [
    {
     "name": "stdout",
     "output_type": "stream",
     "text": [
      "['Love' 800 'Joy' 789.9 'Peace' True]\n"
     ]
    }
   ],
   "source": [
    "import pandas as pd\n",
    "import numpy as np\n",
    "\n",
    "# Sample Series\n",
    "series = pd.Series(['Love', 800, 'Joy', 789.9, 'Peace', True])\n",
    "\n",
    "# Convert to array\n",
    "array = series.values\n",
    "print(array)"
   ]
  },
  {
   "cell_type": "code",
   "execution_count": 9,
   "id": "f70d7da7",
   "metadata": {},
   "outputs": [
    {
     "name": "stdout",
     "output_type": "stream",
     "text": [
      "Most frequent value: 2\n",
      "0        2\n",
      "1    Other\n",
      "2        2\n",
      "3    Other\n",
      "4        2\n",
      "5    Other\n",
      "6    Other\n",
      "7        2\n",
      "8        2\n",
      "9    Other\n",
      "dtype: object\n"
     ]
    }
   ],
   "source": [
    "import pandas as pd\n",
    "\n",
    "# Sample data (replace with actual dataset)\n",
    "data = {'HomeTeamGoals': [2, 1, 2, 3, 2, 1, 4, 2, 2, 3]}\n",
    "series = pd.Series(data['HomeTeamGoals'])\n",
    "\n",
    "# Find most frequent value\n",
    "most_frequent = series.mode()[0]\n",
    "print(\"Most frequent value:\", most_frequent)\n",
    "\n",
    "# Replace others with 'Other'\n",
    "modified_series = series.where(series == most_frequent, 'Other')\n",
    "print(modified_series)"
   ]
  }
 ],
 "metadata": {
  "kernelspec": {
   "display_name": "Python 3",
   "language": "python",
   "name": "python3"
  },
  "language_info": {
   "codemirror_mode": {
    "name": "ipython",
    "version": 3
   },
   "file_extension": ".py",
   "mimetype": "text/x-python",
   "name": "python",
   "nbconvert_exporter": "python",
   "pygments_lexer": "ipython3",
   "version": "3.13.3"
  }
 },
 "nbformat": 4,
 "nbformat_minor": 5
}
